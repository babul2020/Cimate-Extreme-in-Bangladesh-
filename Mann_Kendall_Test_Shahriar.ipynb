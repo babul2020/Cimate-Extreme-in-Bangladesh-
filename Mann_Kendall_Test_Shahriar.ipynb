{
 "cells": [
  {
   "cell_type": "code",
   "execution_count": 36,
   "metadata": {},
   "outputs": [
    {
     "data": {
      "text/html": [
       "<div>\n",
       "<style scoped>\n",
       "    .dataframe tbody tr th:only-of-type {\n",
       "        vertical-align: middle;\n",
       "    }\n",
       "\n",
       "    .dataframe tbody tr th {\n",
       "        vertical-align: top;\n",
       "    }\n",
       "\n",
       "    .dataframe thead th {\n",
       "        text-align: right;\n",
       "    }\n",
       "</style>\n",
       "<table border=\"1\" class=\"dataframe\">\n",
       "  <thead>\n",
       "    <tr style=\"text-align: right;\">\n",
       "      <th></th>\n",
       "      <th>Month</th>\n",
       "      <th>Montha</th>\n",
       "      <th>CDD</th>\n",
       "      <th>CDDa</th>\n",
       "      <th>CWD</th>\n",
       "      <th>CWDa</th>\n",
       "      <th>PRCPTOT</th>\n",
       "      <th>PRCPTOTa</th>\n",
       "      <th>R10mm</th>\n",
       "      <th>R10mma</th>\n",
       "      <th>R20mm</th>\n",
       "      <th>R20mma</th>\n",
       "      <th>R30mm</th>\n",
       "      <th>R30mma</th>\n",
       "      <th>Rx1day</th>\n",
       "      <th>Rx1daya</th>\n",
       "      <th>Rx3day</th>\n",
       "      <th>Rx3daya</th>\n",
       "      <th>Rx5day</th>\n",
       "      <th>Rx5daya</th>\n",
       "    </tr>\n",
       "  </thead>\n",
       "  <tbody>\n",
       "    <tr>\n",
       "      <th>0</th>\n",
       "      <td>1.0</td>\n",
       "      <td>-5.5</td>\n",
       "      <td>19.450</td>\n",
       "      <td>-1.18692</td>\n",
       "      <td>5.3082</td>\n",
       "      <td>0.452967</td>\n",
       "      <td>240.02</td>\n",
       "      <td>28.2125</td>\n",
       "      <td>5.7500</td>\n",
       "      <td>0.515883</td>\n",
       "      <td>3.7039</td>\n",
       "      <td>0.3879</td>\n",
       "      <td>2.4859</td>\n",
       "      <td>0.231608</td>\n",
       "      <td>62.182</td>\n",
       "      <td>8.22592</td>\n",
       "      <td>105.210</td>\n",
       "      <td>15.19467</td>\n",
       "      <td>127.140</td>\n",
       "      <td>16.0225</td>\n",
       "    </tr>\n",
       "    <tr>\n",
       "      <th>1</th>\n",
       "      <td>2.0</td>\n",
       "      <td>-4.5</td>\n",
       "      <td>19.134</td>\n",
       "      <td>-1.50292</td>\n",
       "      <td>4.4079</td>\n",
       "      <td>-0.447333</td>\n",
       "      <td>179.29</td>\n",
       "      <td>-32.5175</td>\n",
       "      <td>4.5549</td>\n",
       "      <td>-0.679217</td>\n",
       "      <td>2.8204</td>\n",
       "      <td>-0.4956</td>\n",
       "      <td>1.9414</td>\n",
       "      <td>-0.312892</td>\n",
       "      <td>49.946</td>\n",
       "      <td>-4.01008</td>\n",
       "      <td>82.797</td>\n",
       "      <td>-7.21833</td>\n",
       "      <td>98.871</td>\n",
       "      <td>-12.2465</td>\n",
       "    </tr>\n",
       "    <tr>\n",
       "      <th>2</th>\n",
       "      <td>3.0</td>\n",
       "      <td>-3.5</td>\n",
       "      <td>14.354</td>\n",
       "      <td>-6.28292</td>\n",
       "      <td>5.2709</td>\n",
       "      <td>0.415667</td>\n",
       "      <td>236.73</td>\n",
       "      <td>24.9225</td>\n",
       "      <td>5.9683</td>\n",
       "      <td>0.734183</td>\n",
       "      <td>3.7549</td>\n",
       "      <td>0.4389</td>\n",
       "      <td>2.5735</td>\n",
       "      <td>0.319208</td>\n",
       "      <td>57.727</td>\n",
       "      <td>3.77092</td>\n",
       "      <td>98.216</td>\n",
       "      <td>8.20067</td>\n",
       "      <td>120.970</td>\n",
       "      <td>9.8525</td>\n",
       "    </tr>\n",
       "    <tr>\n",
       "      <th>3</th>\n",
       "      <td>4.0</td>\n",
       "      <td>-2.5</td>\n",
       "      <td>19.683</td>\n",
       "      <td>-0.95392</td>\n",
       "      <td>5.0178</td>\n",
       "      <td>0.162567</td>\n",
       "      <td>197.91</td>\n",
       "      <td>-13.8975</td>\n",
       "      <td>5.1656</td>\n",
       "      <td>-0.068517</td>\n",
       "      <td>3.1719</td>\n",
       "      <td>-0.1441</td>\n",
       "      <td>2.1125</td>\n",
       "      <td>-0.141792</td>\n",
       "      <td>51.297</td>\n",
       "      <td>-2.65908</td>\n",
       "      <td>83.948</td>\n",
       "      <td>-6.06733</td>\n",
       "      <td>103.970</td>\n",
       "      <td>-7.1475</td>\n",
       "    </tr>\n",
       "    <tr>\n",
       "      <th>4</th>\n",
       "      <td>5.0</td>\n",
       "      <td>-1.5</td>\n",
       "      <td>20.733</td>\n",
       "      <td>0.09608</td>\n",
       "      <td>4.5313</td>\n",
       "      <td>-0.323933</td>\n",
       "      <td>184.65</td>\n",
       "      <td>-27.1575</td>\n",
       "      <td>4.5984</td>\n",
       "      <td>-0.635717</td>\n",
       "      <td>2.9063</td>\n",
       "      <td>-0.4097</td>\n",
       "      <td>1.9531</td>\n",
       "      <td>-0.301192</td>\n",
       "      <td>50.159</td>\n",
       "      <td>-3.79708</td>\n",
       "      <td>79.933</td>\n",
       "      <td>-10.08233</td>\n",
       "      <td>98.256</td>\n",
       "      <td>-12.8615</td>\n",
       "    </tr>\n",
       "  </tbody>\n",
       "</table>\n",
       "</div>"
      ],
      "text/plain": [
       "   Month  Montha     CDD     CDDa     CWD      CWDa  PRCPTOT  PRCPTOTa  \\\n",
       "0    1.0    -5.5  19.450 -1.18692  5.3082  0.452967   240.02   28.2125   \n",
       "1    2.0    -4.5  19.134 -1.50292  4.4079 -0.447333   179.29  -32.5175   \n",
       "2    3.0    -3.5  14.354 -6.28292  5.2709  0.415667   236.73   24.9225   \n",
       "3    4.0    -2.5  19.683 -0.95392  5.0178  0.162567   197.91  -13.8975   \n",
       "4    5.0    -1.5  20.733  0.09608  4.5313 -0.323933   184.65  -27.1575   \n",
       "\n",
       "    R10mm    R10mma   R20mm  R20mma   R30mm    R30mma  Rx1day  Rx1daya  \\\n",
       "0  5.7500  0.515883  3.7039  0.3879  2.4859  0.231608  62.182  8.22592   \n",
       "1  4.5549 -0.679217  2.8204 -0.4956  1.9414 -0.312892  49.946 -4.01008   \n",
       "2  5.9683  0.734183  3.7549  0.4389  2.5735  0.319208  57.727  3.77092   \n",
       "3  5.1656 -0.068517  3.1719 -0.1441  2.1125 -0.141792  51.297 -2.65908   \n",
       "4  4.5984 -0.635717  2.9063 -0.4097  1.9531 -0.301192  50.159 -3.79708   \n",
       "\n",
       "    Rx3day   Rx3daya   Rx5day  Rx5daya  \n",
       "0  105.210  15.19467  127.140  16.0225  \n",
       "1   82.797  -7.21833   98.871 -12.2465  \n",
       "2   98.216   8.20067  120.970   9.8525  \n",
       "3   83.948  -6.06733  103.970  -7.1475  \n",
       "4   79.933 -10.08233   98.256 -12.8615  "
      ]
     },
     "execution_count": 36,
     "metadata": {},
     "output_type": "execute_result"
    }
   ],
   "source": [
    "import pandas as pd\n",
    "df = pd.read_excel(\"Anomaly1.xlsx\",\"Sheet1\")\n",
    "df.head(5)"
   ]
  },
  {
   "cell_type": "code",
   "execution_count": 32,
   "metadata": {},
   "outputs": [],
   "source": [
    "import pymannkendall as mk\n",
    "import numpy as np"
   ]
  },
  {
   "cell_type": "code",
   "execution_count": 33,
   "metadata": {},
   "outputs": [
    {
     "name": "stdout",
     "output_type": "stream",
     "text": [
      "Mann_Kendall_Test(trend='increasing', h=True, p=8.303107353668793e-06, z=4.45721562860432, Tau=1.0, s=66.0, var_s=212.66666666666666, slope=0.8806388888888889, intercept=-5.830933888888889)\n"
     ]
    }
   ],
   "source": [
    "data = df.CDDa\n",
    "result = mk.original_test(data)\n",
    "print(result)"
   ]
  },
  {
   "cell_type": "code",
   "execution_count": 29,
   "metadata": {},
   "outputs": [
    {
     "name": "stdout",
     "output_type": "stream",
     "text": [
      "Mann_Kendall_Test(trend='no trend', h=False, p=0.7317017232242102, z=-0.34286274066187084, Tau=-0.09090909090909091, s=-6.0, var_s=212.66666666666666, slope=-0.013156250000000036, intercept=0.136176375)\n"
     ]
    }
   ],
   "source": [
    "data = df.CWDa\n",
    "result = mk.original_test(data)\n",
    "print(result)"
   ]
  },
  {
   "cell_type": "code",
   "execution_count": 30,
   "metadata": {},
   "outputs": [
    {
     "name": "stdout",
     "output_type": "stream",
     "text": [
      "Mann_Kendall_Test(trend='no trend', h=False, p=1.0, z=0, Tau=0.0, s=0.0, var_s=212.66666666666666, slope=-0.3950000000000031, intercept=2.145000000000014)\n"
     ]
    }
   ],
   "source": [
    "data = df.PRCPTOTa\n",
    "result = mk.original_test(data)\n",
    "print(result)"
   ]
  },
  {
   "cell_type": "code",
   "execution_count": null,
   "metadata": {},
   "outputs": [],
   "source": []
  }
 ],
 "metadata": {
  "kernelspec": {
   "display_name": "Python 3",
   "language": "python",
   "name": "python3"
  },
  "language_info": {
   "codemirror_mode": {
    "name": "ipython",
    "version": 3
   },
   "file_extension": ".py",
   "mimetype": "text/x-python",
   "name": "python",
   "nbconvert_exporter": "python",
   "pygments_lexer": "ipython3",
   "version": "3.7.6"
  }
 },
 "nbformat": 4,
 "nbformat_minor": 2
}
